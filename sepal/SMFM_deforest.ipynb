{
 "cells": [
  {
   "cell_type": "markdown",
   "metadata": {},
   "source": [
    "# Setup"
   ]
  },
  {
   "cell_type": "code",
   "execution_count": 1,
   "metadata": {},
   "outputs": [],
   "source": [
    "!pip install geemap -q"
   ]
  },
  {
   "cell_type": "code",
   "execution_count": 1,
   "metadata": {},
   "outputs": [
    {
     "data": {
      "text/html": [
       "<p>To authorize access needed by Earth Engine, open the following\n",
       "        URL in a web browser and follow the instructions:</p>\n",
       "        <p><a href=https://accounts.google.com/o/oauth2/auth?client_id=517222506229-vsmmajv00ul0bs7p89v5m89qs8eb9359.apps.googleusercontent.com&scope=https%3A%2F%2Fwww.googleapis.com%2Fauth%2Fearthengine+https%3A%2F%2Fwww.googleapis.com%2Fauth%2Fdevstorage.full_control&redirect_uri=urn%3Aietf%3Awg%3Aoauth%3A2.0%3Aoob&response_type=code&code_challenge=yWNuaUHUF704-QGWdOq4KKhHuCcKlgFZppKnhXky6n0&code_challenge_method=S256>https://accounts.google.com/o/oauth2/auth?client_id=517222506229-vsmmajv00ul0bs7p89v5m89qs8eb9359.apps.googleusercontent.com&scope=https%3A%2F%2Fwww.googleapis.com%2Fauth%2Fearthengine+https%3A%2F%2Fwww.googleapis.com%2Fauth%2Fdevstorage.full_control&redirect_uri=urn%3Aietf%3Awg%3Aoauth%3A2.0%3Aoob&response_type=code&code_challenge=yWNuaUHUF704-QGWdOq4KKhHuCcKlgFZppKnhXky6n0&code_challenge_method=S256</a></p>\n",
       "        <p>The authorization workflow will generate a code, which you\n",
       "        should paste in the box below</p>\n",
       "        "
      ],
      "text/plain": [
       "<IPython.core.display.HTML object>"
      ]
     },
     "metadata": {},
     "output_type": "display_data"
    },
    {
     "name": "stdin",
     "output_type": "stream",
     "text": [
      "Enter verification code:  4/1AY0e-g6UcbS1uvxBHGBSByOSceODZwtB05ZT6g_oGZXAesGaMIZ7Dg_QMhE\n"
     ]
    },
    {
     "name": "stdout",
     "output_type": "stream",
     "text": [
      "\n",
      "Successfully saved authorization token.\n"
     ]
    }
   ],
   "source": [
    "import ee\n",
    "ee.Authenticate()\n",
    "ee.Initialize()"
   ]
  },
  {
   "cell_type": "markdown",
   "metadata": {},
   "source": [
    "# Prepare feature images (simplified)"
   ]
  },
  {
   "cell_type": "code",
   "execution_count": 5,
   "metadata": {},
   "outputs": [],
   "source": [
    "start_date = ee.Date.fromYMD(2016,1,1)\n",
    "end_date = ee.Date.fromYMD(2020,12,31)\n",
    "\n",
    "# Define study region\n",
    "study_region = ee.Geometry.Polygon([\n",
    "  [33,-20], [33,-19], [34,-19], [34,-20], [33,-20]]);\n",
    "\n",
    "s2 = ee.ImageCollection(\"COPERNICUS/S2_SR\")\\\n",
    "  .filterBounds(study_region)\\\n",
    "  .filterMetadata('GRANULE_ID','contains','36KWD');\n",
    "\n",
    "# Mask clouds\n",
    "def maskClouds(im):\n",
    "  \n",
    "  im = im.updateMask((im.select('SCL').gte(4))\\\n",
    "                       .bitwise_and(im.select('SCL').lte(6)))\n",
    "    \n",
    "  return im\n",
    "\n",
    "\n",
    "# Add spectral indices\n",
    "def addVIs(im):\n",
    "  \n",
    "  # NDVI\n",
    "  ndvi = im.normalizedDifference(['B8','B4']).rename('NDVI')\n",
    "  im = im.addBands(ndvi);\n",
    "  \n",
    "  # EVI\n",
    "  evi = im.expression(\n",
    "    '2.5 * ((NIR - RED) / (NIR + 6 * RED - 7.5 * BLUE + 1))', {\n",
    "      'NIR': im.select('B8'),\n",
    "      'RED': im.select('B4'),\n",
    "      'BLUE': im.select('B2')}).rename('EVI')\n",
    "  im = im.addBands(evi)\n",
    "  \n",
    "  # GEMI\n",
    "  n = im.expression(\n",
    "    '(2 * (NIR ** 2 - RED ** 2) + 1.5 * NIR + 0.5 * RED) / (NIR + RED + 0.5)', {\n",
    "      'NIR': im.select('B8'),\n",
    "      'RED': im.select('B4')})\n",
    "  gemi = im.expression(\n",
    "    '(N * (1 - 0.25 * N)) - ((RED - 0.125) / (1 - RED))', {\n",
    "      'N': n,\n",
    "      'RED': im.select('B4')}).rename('GEMI')\n",
    "  im = im.addBands(gemi)\n",
    "  \n",
    "  # NDMI\n",
    "  ndmi = im.normalizedDifference(['B8','B11']).rename('NDMI')\n",
    "  im = im.addBands(ndmi)\n",
    "  \n",
    "  # SAVI\n",
    "  savi = im.expression(\n",
    "    '(1 + 0.5) * ((NIR - RED) / (NIR + RED + 0.5))', {\n",
    "      'RED': im.select('B4'),\n",
    "      'NIR': im.select('B8')\n",
    "    }).rename('SAVI')\n",
    "  im = im.addBands(savi)\n",
    "  \n",
    "  # RENDVI\n",
    "  rendvi = im.normalizedDifference(['B6','B5']).rename('RENDVI')\n",
    "  i = im.addBands(rendvi)\n",
    "  \n",
    "  # MSI\n",
    "  msi = (im.select('B11').divide(im.select('B8'))).rename('MSI')\n",
    "  im = im.addBands(msi)\n",
    "  \n",
    "  # NBR\n",
    "  nbr = im.normalizedDifference(['B8','B12']).rename('NBR')\n",
    "  im = im.addBands(nbr)\n",
    "  \n",
    "  # MIRBI\n",
    "  mirbi = im.expression(\n",
    "    '(10 * SWIR2) - (9.8 * SWIR2) + 2', {\n",
    "      'SWIR1': im.select('B11'),\n",
    "      'SWIR2': im.select('B12')}).rename('MIRBI')\n",
    "  im = im.addBands(mirbi)\n",
    "  \n",
    "  # Replace infinite or undefined values\n",
    "  # TODO\n",
    "  \n",
    "  return im\n",
    "\n",
    "\n",
    "# Compute spatial percentile of index (spatial context)\n",
    "def percentileImage(image, percentile = 95, kernel = 11):\n",
    "  \n",
    "  im_percentile = image.reduceNeighborhood(**{\n",
    "    'reducer': ee.Reducer.percentile([percentile]),\n",
    "    'kernel': ee.Kernel.circle(kernel),\n",
    "  })\n",
    "  \n",
    "  return im_percentile.rename('PERC')\n",
    "\n",
    "# Compute spatial context\n",
    "def addSpatialContext(im):\n",
    "\n",
    "  perc_60 = percentileImage(im.select('NDVI'), 95, 3).rename('PERC_60')\n",
    "  perc_600 = percentileImage(im.select('NDVI'), 95, 30).rename('PERC_600')\n",
    "  perc_2400 = percentileImage(im.select('NDVI'), 95, 120).rename('PERC_2400')\n",
    "  \n",
    "  im = im.addBands(perc_60).addBands(perc_600).addBands(perc_2400)\n",
    "  \n",
    "  return im\n",
    "\n",
    "\n",
    "# Image texture (stdev convolution)\n",
    "def stdConvolution(im, kernel = 3):\n",
    "    \n",
    "  texture = im.reduceNeighborhood(**{\n",
    "      'reducer': ee.Reducer.stdDev(),\n",
    "      'kernel': ee.Kernel.circle(kernel)\n",
    "    })\n",
    "  \n",
    "  return texture\n",
    "\n",
    "\n",
    "# Image texture (mean convolution)\n",
    "def meanConvolution(im, kernel = 3):\n",
    "  \n",
    "  texture = im.reduceNeighborhood(**{\\\n",
    "    'reducer': ee.Reducer.mean(),\n",
    "    'kernel': ee.Kernel.circle(kernel)\n",
    "    })\n",
    "  \n",
    "  return texture\n",
    "\n",
    "def addTexture(im):\n",
    "  \n",
    "  std_3 = stdConvolution(im.select('NDVI'), kernel = 3).rename('STD_3')\n",
    "  std_9 = stdConvolution(im.select('NDVI'), kernel = 9).rename('STD_9')\n",
    "  \n",
    "  im = im.addBands(std_3).addBands(std_9)\n",
    "\n",
    "  return im\n",
    "\n",
    "\n",
    "def addCoefVar(im):\n",
    "  \n",
    "  coef_var = im.select('STD_3')\\\n",
    "    .divide(meanConvolution(im.select('NDVI'), kernel = 3))\\\n",
    "    .rename('COEF_VAR')\n",
    "  \n",
    "  im = im.addBands(coef_var)\n",
    "  \n",
    "  return im\n",
    "\n",
    "def addTimeOfYear(im):\n",
    " \n",
    "  #Day of year\n",
    "  doy = im.date().getRelative('day', 'year').toFloat()\n",
    "  \n",
    "  #Position in year\n",
    "  poy = ee.Image(doy).divide(365.25)\n",
    "  \n",
    "  #Spring/Autumn\n",
    "  im = im.addBands(poy.sin().rename('TIME_SIN'))\n",
    "  \n",
    "  #Winter/Summer\n",
    "  im = im.addBands(poy.cos().rename('TIME_COS'))\n",
    "  \n",
    "  return im\n",
    "\n",
    "\n",
    "s2 = s2.map(maskClouds)\n",
    "s2 = s2.map(addVIs)\n",
    "s2 = s2.map(addSpatialContext)\n",
    "s2 = s2.map(addTexture)\n",
    "s2 = s2.map(addCoefVar)\n",
    "s2 = s2.map(addTimeOfYear)\n",
    "\n",
    "#print(s2.first());\n",
    "\n",
    "#Ma.addLayer(s2.first().select('MIRBI'))"
   ]
  },
  {
   "cell_type": "markdown",
   "metadata": {},
   "source": [
    "# Collect training data"
   ]
  },
  {
   "cell_type": "code",
   "execution_count": 4,
   "metadata": {},
   "outputs": [
    {
     "data": {
      "text/html": [
       "<div style=\"width:100%;\"><div style=\"position:relative;width:100%;height:0;padding-bottom:60%;\"><span style=\"color:#565656\">Make this Notebook Trusted to load map: File -> Trust Notebook</span><iframe src=\"about:blank\" style=\"position:absolute;width:100%;height:100%;left:0;top:0;border:none !important;\" data-html=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 onload=\"this.contentDocument.open();this.contentDocument.write(atob(this.getAttribute('data-html')));this.contentDocument.close();\" allowfullscreen webkitallowfullscreen mozallowfullscreen></iframe></div></div>"
      ],
      "text/plain": [
       "<geemap.eefolium.Map at 0x7f6984e25ef0>"
      ]
     },
     "execution_count": 4,
     "metadata": {},
     "output_type": "execute_result"
    }
   ],
   "source": [
    "#ipyleaflet doesn't seem compatible with SEPAL, fall back on folium\n",
    "import geemap.eefolium as geemap \n",
    "\n",
    "s2_display = ee.ImageCollection(\"COPERNICUS/S2\")\n",
    "\n",
    "def addNDVI(im):\n",
    "    return im.addBands(im.normalizedDifference(['B8','B4']).rename('NDVI'))\n",
    "s2_display = s2_display.map(addNDVI)\n",
    "\n",
    "s2_t1 = s2_display.filterDate('2015-12-01','2016-06-01')\n",
    "s2_t2 = s2_display.filterDate('2019-12-01','2020-06-01')\n",
    "\n",
    "# Training polygons\n",
    "fc = ee.FeatureCollection('users/sambowers/deforest_sample_training_data');\n",
    "\n",
    "Map = geemap.Map()\n",
    "Map.centerObject(study_region, zoom=9)\n",
    "Map.setOptions('SATELLITE')\n",
    "vis_params = {'min':0, 'max':2000, 'bands':['B4','B3','B2']}\n",
    "Map.addLayer(s2_t1.qualityMosaic('NDVI').clip(study_region), vis_params, 'S2_t1')\n",
    "Map.addLayer(s2_t2.qualityMosaic('NDVI').clip(study_region), vis_params, 'S2_t2')\n",
    "\n",
    "Map.addLayer(fc.filter(ee.Filter.eq('landcover', 0)),{'color':'darkorange'}, 'Stable nonforest')\n",
    "Map.addLayer(fc.filter(ee.Filter.eq('landcover', 1)),{'color':'skyblue'}, 'Stable forest')\n",
    "\n",
    "Map.addLayerControl()\n",
    "Map"
   ]
  },
  {
   "cell_type": "markdown",
   "metadata": {},
   "source": [
    "# Export training data"
   ]
  },
  {
   "cell_type": "code",
   "execution_count": 22,
   "metadata": {},
   "outputs": [],
   "source": [
    "\n",
    "fc = ee.FeatureCollection('users/sambowers/deforest_sample_training_data');\n",
    "\n",
    "def addClassBand(im):\n",
    "  im = im.addBands(\n",
    "    fc.reduceToImage(**{\n",
    "      'properties': ['landcover'],\n",
    "      'reducer': ee.Reducer.first()})\\\n",
    "      .add(1).toInt().rename('landcover'))\n",
    "\n",
    "  return im\n",
    "\n",
    "s2_sample = ee.ImageCollection(s2.randomColumn('random', 12).sort('random').limit(100));\n",
    "\n",
    "input_bands = ['B2','B3','B4','B5','B6','B7','B8','B11','B12','NDVI','EVI','SAVI','NBR','MIRBI','STD_3','STD_9','PERC_60','COEF_VAR']\n",
    "\n",
    "s2_sample = s2_sample.select(input_bands);\n",
    "\n",
    "s2_sample = s2_sample.map(addClassBand)\n",
    "\n",
    "\n",
    "# Extract data from subset of images\n",
    "def extractTrainingPoints(im):\n",
    "  \n",
    "  # Get samples from image\n",
    "  training = im.stratifiedSample(**{\n",
    "    'numPoints': 1000, \n",
    "    'classBand': \"landcover\", \n",
    "    'region': study_region,\n",
    "    'scale': 20\n",
    "  })\n",
    "  \n",
    "  return training\n",
    "\n",
    "# Map and flatten to reduce to a collection of features\n",
    "training_data = ee.FeatureCollection(s2_sample.map(extractTrainingPoints)).flatten()\n",
    "\n",
    "# Add an arbitrary geometry to allow for export\n",
    "def addGeometry(feat):\n",
    "  return feat.setGeometry(s2.geometry().centroid())\n",
    "\n",
    "training_data = training_data.map(addGeometry)\n",
    "\n",
    "# Export an ee.FeatureCollection as an Earth Engine asset.\n",
    "task = ee.batch.Export.table.toAsset(**{\n",
    "  'collection': training_data,\n",
    "  'description':'deforest_training_data',\n",
    "  'assetId':'users/sambowers/deforest_training_data',\n",
    "});\n",
    "\n",
    "task.start()"
   ]
  },
  {
   "cell_type": "markdown",
   "metadata": {},
   "source": [
    "# Train a classifier"
   ]
  },
  {
   "cell_type": "code",
   "execution_count": 2,
   "metadata": {},
   "outputs": [],
   "source": [
    "fc = ee.FeatureCollection('users/sambowers/deforest_training_data');\n",
    "\n",
    "fc = fc.remap([1,2],[0,1],'landcover')\n",
    "\n",
    "classifier = ee.Classifier.smileRandomForest(numberOfTrees=128, minLeafPopulation=4, seed=0)\n",
    "\n",
    "input_properties = ['B2','B3','B4','B5','B6','B7','B8','B11','B12','NDVI','EVI','SAVI','NBR','MIRBI','STD_3','STD_9','PERC_60','COEF_VAR']\n",
    "\n",
    "classifier = classifier.train(**{'features': fc,\n",
    "                                 'classProperty': 'landcover',\n",
    "                                 'inputProperties': input_properties})\n",
    "\n",
    "classifier_details = classifier.explain().getInfo()"
   ]
  },
  {
   "cell_type": "code",
   "execution_count": 3,
   "metadata": {},
   "outputs": [
    {
     "data": {
      "image/png": "[encoded data removed]",
      "text/plain": [
       "<Figure size 432x288 with 1 Axes>"
      ]
     },
     "metadata": {
      "needs_background": "light"
     },
     "output_type": "display_data"
    }
   ],
   "source": [
    "import matplotlib.pyplot as plt\n",
    "\n",
    "plt.bar(classifier_details['importance'].keys(), classifier_details['importance'].values())\n",
    "plt.xticks(rotation=80)\n",
    "plt.show()"
   ]
  },
  {
   "cell_type": "code",
   "execution_count": 7,
   "metadata": {},
   "outputs": [
    {
     "data": {
      "text/html": [
       "<div style=\"width:100%;\"><div style=\"position:relative;width:100%;height:0;padding-bottom:60%;\"><span style=\"color:#565656\">Make this Notebook Trusted to load map: File -> Trust Notebook</span><iframe src=\"about:blank\" style=\"position:absolute;width:100%;height:100%;left:0;top:0;border:none !important;\" data-html=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 onload=\"this.contentDocument.open();this.contentDocument.write(atob(this.getAttribute('data-html')));this.contentDocument.close();\" allowfullscreen webkitallowfullscreen mozallowfullscreen></iframe></div></div>"
      ],
      "text/plain": [
       "<geemap.eefolium.Map at 0x7f97b4dacd68>"
      ]
     },
     "execution_count": 7,
     "metadata": {},
     "output_type": "execute_result"
    }
   ],
   "source": [
    "import geemap.eefolium as geemap \n",
    "\n",
    "#print(t.getInfo())\n",
    "example_im = ee.Image(s2.sort('CLOUDY_PIXEL_PERCENTAGE').first());\n",
    "\n",
    "t = example_im.classify(classifier.setOutputMode('PROBABILITY'))\n",
    "\n",
    "Map = geemap.Map()\n",
    "Map.centerObject(study_region, zoom=9)\n",
    "Map.setOptions('SATELLITE')\n",
    "vis_params = {'min':0, 'max':1, 'palette':['white','lightgreen','darkgreen','black']}\n",
    "Map.addLayer(t, vis_params, 'p(Forest)')\n",
    "\n",
    "Map.addLayerControl()\n",
    "Map"
   ]
  },
  {
   "cell_type": "markdown",
   "metadata": {},
   "source": [
    "# Apply classifier to each image"
   ]
  },
  {
   "cell_type": "code",
   "execution_count": 11,
   "metadata": {},
   "outputs": [],
   "source": [
    "def classifyImage(im):\n",
    "  classified = ee.Image(im.classify(classifier.setOutputMode('PROBABILITY')).rename('forest_prob')).byte()\n",
    "  classified = classified.unmask(255);\n",
    "  classified = classified.copyProperties(im, ['system:time_start'])\n",
    "  return classified\n",
    "\n",
    "s2_pForest = s2.map(classifyImage)\n",
    "\n",
    "def addOutputName(im):\n",
    "  \n",
    "  #Format: 'NAME_S2_TILE_DATE_TIME.tif'\n",
    "  \n",
    "  output_name = ee.String('DEFOREST').cat('_')\\\n",
    "    .cat(ee.String('S2')).cat('_')\\\n",
    "    .cat(ee.String('36KWD')).cat('_')\\\n",
    "    .cat(im.date().format('YYYYMMdd')).cat('_')\\\n",
    "    .cat(ee.String('000000'))\n",
    "  \n",
    "  im = im.set('output_name', output_name)\n",
    "  \n",
    "  return im\n",
    "\n",
    "s2_pForest = s2_pForest.map(addOutputName)\n",
    "\n",
    "t = s2_pForest.first().getInfo()\n",
    "\n"
   ]
  },
  {
   "cell_type": "code",
   "execution_count": 10,
   "metadata": {},
   "outputs": [
    {
     "name": "stdout",
     "output_type": "stream",
     "text": [
      "{'type': 'Image', 'bands': [{'id': 'forest_prob', 'data_type': {'type': 'PixelType', 'precision': 'float'}, 'dimensions': [10980, 10980], 'crs': 'EPSG:32736', 'crs_transform': [10, 0, 499980, 0, -10, 7900000]}], 'properties': {'system:time_start': 1544861121000, 'output_name': 'DEFOREST_S2_36KWD_20181215_000000', 'system:footprint': {'type': 'LinearRing', 'coordinates': [[32.999796849916855, -19.98471508803333], [32.99980879365058, -19.984715794333667], [34.04911137989149, -19.981612495586443], [34.04915523118319, -19.981575639280823], [34.04920367153898, -19.98154428522826], [34.0492065609629, -19.98152947318649], [34.0459726433017, -19.485566647304925], [34.04283600816862, -18.989583746872544], [34.042797083196355, -18.98954254471353], [34.04276393746451, -18.98949698133489], [34.04274829947401, -18.989494228315916], [32.999809996616484, -18.992431774743256], [32.99976617427762, -18.9924683436307], [32.99971779783015, -18.992499447485358], [32.99971479041257, -18.99251423315351], [32.999713071888195, -19.984625764649643], [32.99975199645797, -19.984667287577857], [32.999785078034, -19.98471298693217], [32.999796849916855, -19.98471508803333]]}, 'system:index': '20181215T074319_20181215T075419_T36KWD'}}\n"
     ]
    }
   ],
   "source": [
    "print(t)"
   ]
  }
 ],
 "metadata": {
  "kernelspec": {
   "display_name": "Python 3",
   "language": "python",
   "name": "python3"
  },
  "language_info": {
   "codemirror_mode": {
    "name": "ipython",
    "version": 3
   },
   "file_extension": ".py",
   "mimetype": "text/x-python",
   "name": "python",
   "nbconvert_exporter": "python",
   "pygments_lexer": "ipython3",
   "version": "3.6.9"
  }
 },
 "nbformat": 4,
 "nbformat_minor": 4
}
